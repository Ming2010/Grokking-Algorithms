{
 "cells": [
  {
   "cell_type": "code",
   "execution_count": 1,
   "metadata": {},
   "outputs": [],
   "source": [
    "# initialize graph table\n",
    "graph = {}\n",
    "# the neighbors and the weights of start point\n",
    "graph[\"start\"] = {}\n",
    "graph[\"start\"][\"a\"] = 6\n",
    "graph[\"start\"][\"b\"] = 2\n",
    "# the neighbors and the weights of point a\n",
    "graph[\"a\"] = {}\n",
    "graph[\"a\"][\"fin\"] = 1\n",
    "# the neighbors and the weights of point b\n",
    "graph[\"b\"] = {}\n",
    "graph[\"b\"][\"a\"] = 3\n",
    "graph[\"b\"][\"fin\"] = 5\n",
    "# final point does not have neighbor\n",
    "graph[\"fin\"] = {}"
   ]
  },
  {
   "cell_type": "code",
   "execution_count": 2,
   "metadata": {},
   "outputs": [],
   "source": [
    "# initialize cost table\n",
    "infinity = float(\"inf\")\n",
    "costs = {}\n",
    "costs[\"a\"] = 6\n",
    "costs[\"b\"] = 2\n",
    "costs[\"fin\"] = infinity"
   ]
  },
  {
   "cell_type": "code",
   "execution_count": 3,
   "metadata": {},
   "outputs": [],
   "source": [
    "# initialize parents table\n",
    "parents = {}\n",
    "parents[\"a\"] = \"start\"\n",
    "parents[\"b\"] = \"start\"\n",
    "parents[\"fin\"] = None"
   ]
  },
  {
   "cell_type": "code",
   "execution_count": 4,
   "metadata": {},
   "outputs": [],
   "source": [
    "def find_lowest_cost_node(costs):\n",
    "    \n",
    "    lowest_node = None\n",
    "    lowest_cost = float(\"inf\")\n",
    "    \n",
    "    for key, value in costs.items():\n",
    "        if value < lowest_cost:\n",
    "            lowest_node = key\n",
    "            lowest_cost = value\n",
    "            \n",
    "    return lowest_node"
   ]
  },
  {
   "cell_type": "code",
   "execution_count": 5,
   "metadata": {},
   "outputs": [],
   "source": [
    "def Dijkstras(graph, costs, parents):\n",
    "    \n",
    "    processed = []\n",
    "    node = find_lowest_cost_node(costs)\n",
    "    \n",
    "    while node is not None:\n",
    "        \n",
    "        cost = costs[node]\n",
    "        neighbors = graph[node]\n",
    "        \n",
    "        for neighbor in neighbors.keys():\n",
    "            \n",
    "            new_cost = cost + neighbors[neighbor]\n",
    "            if costs[neighbor] > new_cost:\n",
    "                costs[neighbor] = new_cost\n",
    "                parents[neighbor] = node\n",
    "                \n",
    "        processed.append(node)\n",
    "        not_processed_nodes = {key:value for key, value in costs.items() if key not in processed}\n",
    "        node = find_lowest_cost_node(not_processed_nodes)\n",
    "        \n",
    "    return costs['fin']"
   ]
  },
  {
   "cell_type": "code",
   "execution_count": 6,
   "metadata": {},
   "outputs": [
    {
     "data": {
      "text/plain": [
       "6"
      ]
     },
     "execution_count": 6,
     "metadata": {},
     "output_type": "execute_result"
    }
   ],
   "source": [
    "Dijkstras(graph, costs, parents)"
   ]
  }
 ],
 "metadata": {
  "kernelspec": {
   "display_name": "Python 3",
   "language": "python",
   "name": "python3"
  },
  "language_info": {
   "codemirror_mode": {
    "name": "ipython",
    "version": 3
   },
   "file_extension": ".py",
   "mimetype": "text/x-python",
   "name": "python",
   "nbconvert_exporter": "python",
   "pygments_lexer": "ipython3",
   "version": "3.8.2"
  }
 },
 "nbformat": 4,
 "nbformat_minor": 4
}
