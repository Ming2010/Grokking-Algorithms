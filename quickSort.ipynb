{
 "cells": [
  {
   "cell_type": "code",
   "execution_count": 12,
   "metadata": {},
   "outputs": [],
   "source": [
    "def quickSort(arr):\n",
    "    \n",
    "    # base line\n",
    "    if len(arr) < 2:\n",
    "        return arr\n",
    "    \n",
    "    # recursive\n",
    "    pivot = arr[0]\n",
    "    left_part = [num for num in arr[1:] if num < pivot]\n",
    "    right_part = [num for num in arr[1:] if num >= pivot]\n",
    "            \n",
    "    return quickSort(left_part) + [pivot] + quickSort(right_part)"
   ]
  }
 ],
 "metadata": {
  "kernelspec": {
   "display_name": "Python 3",
   "language": "python",
   "name": "python3"
  },
  "language_info": {
   "codemirror_mode": {
    "name": "ipython",
    "version": 3
   },
   "file_extension": ".py",
   "mimetype": "text/x-python",
   "name": "python",
   "nbconvert_exporter": "python",
   "pygments_lexer": "ipython3",
   "version": "3.8.2"
  }
 },
 "nbformat": 4,
 "nbformat_minor": 4
}
